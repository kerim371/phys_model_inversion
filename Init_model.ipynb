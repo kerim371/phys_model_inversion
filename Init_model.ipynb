{
 "cells": [
  {
   "cell_type": "code",
   "execution_count": 29,
   "metadata": {},
   "outputs": [],
   "source": [
    "# !pip install numpy scipy matplotlib shapely h5py"
   ]
  },
  {
   "cell_type": "code",
   "execution_count": 30,
   "metadata": {},
   "outputs": [],
   "source": [
    "import numpy as np\n",
    "from matplotlib import pyplot as plt\n",
    "from shapely.geometry import Point, Polygon"
   ]
  },
  {
   "cell_type": "code",
   "execution_count": 31,
   "metadata": {},
   "outputs": [
    {
     "name": "stdout",
     "output_type": "stream",
     "text": [
      "nx:  240\n",
      "ny:  240\n",
      "nz:  66\n"
     ]
    }
   ],
   "source": [
    "x_buffer = 500\n",
    "y_buffer = 500\n",
    "x0 = 4500-x_buffer\n",
    "x1 = 15500+x_buffer\n",
    "y0 = 7500-y_buffer\n",
    "y1 = 18500+y_buffer\n",
    "z0 = 0\n",
    "z1 = 3300\n",
    "dx = 50\n",
    "dy = 50\n",
    "dz = 50\n",
    "\n",
    "x = np.arange(x0, x1, dx)\n",
    "y = np.arange(y0, y1, dy)\n",
    "z = np.arange(z0, z1, dz)\n",
    "\n",
    "nx = x.size\n",
    "ny = y.size\n",
    "nz = z.size\n",
    "\n",
    "print(\"nx: \", nx)\n",
    "print(\"ny: \", ny)\n",
    "print(\"nz: \", nz)"
   ]
  },
  {
   "cell_type": "code",
   "execution_count": 32,
   "metadata": {},
   "outputs": [],
   "source": [
    "z0_w = 0\n",
    "z1_w = 2800\n",
    "z0_c = 2800\n",
    "z1_c = 3300\n",
    "\n",
    "v_w = 3.75   # 3.6 is a little bit slow, try 3.7, or even 3.75 is better\n",
    "v_c = 7.2"
   ]
  },
  {
   "cell_type": "code",
   "execution_count": 33,
   "metadata": {},
   "outputs": [
    {
     "name": "stdout",
     "output_type": "stream",
     "text": [
      "V.shape:  (66, 240, 240)\n"
     ]
    }
   ],
   "source": [
    "V = np.zeros((nz, ny, nx))\n",
    "V = np.full((nz, ny, nx), v_w, dtype=np.float32)\n",
    "print(\"V.shape: \", V.shape)"
   ]
  },
  {
   "cell_type": "code",
   "execution_count": 34,
   "metadata": {},
   "outputs": [],
   "source": [
    "iz0 = (np.abs(z - z0_c)).argmin()\n",
    "iz1 = (np.abs(z - z1_c)).argmin()+1\n",
    "V[iz0:iz1,:,:] = v_c"
   ]
  },
  {
   "cell_type": "code",
   "execution_count": 35,
   "metadata": {},
   "outputs": [],
   "source": [
    "import h5py\n",
    "from pathlib import Path\n",
    "\n",
    "out_dir = \"data\"\n",
    "out_file = \"init_model.h5\"\n",
    "\n",
    "Path(out_dir).mkdir(parents=True, exist_ok=True)\n",
    "\n",
    "with h5py.File(out_dir + '/' + out_file, 'w') as f:\n",
    "    v_dset = f.create_dataset(\"v\", dtype='float32', data=V)\n",
    "    m_dset = f.create_dataset(\"m\", dtype='float32', data=(1/V)**2)\n",
    "    o_dset = f.create_dataset(\"o\", dtype='float32', data=(x[0], y[0], z[0]))\n",
    "    d_dset = f.create_dataset(\"d\", dtype='float32', data=(dx, dy, dz))\n",
    "    n = f.create_dataset(\"n\", dtype='int64', data=(nx, ny, nz))"
   ]
  },
  {
   "cell_type": "code",
   "execution_count": null,
   "metadata": {},
   "outputs": [],
   "source": [
    "# import h5py\n",
    "# from pathlib import Path\n",
    "# import numpy as np\n",
    "\n",
    "# with h5py.File(\"/home/jovyan/work/phys_model_inversion/data/model 6.h5\", 'r') as f:\n",
    "#     v = np.swapaxes(f[\"v\"][()], 0, 2)\n",
    "#     m = np.swapaxes(f[\"m\"][()], 0, 2)\n",
    "#     o = f[\"o\"][()]\n",
    "#     d = f[\"d\"][()]\n",
    "#     n = f[\"n\"][()]\n",
    "#     fhistory = f[\"fhistory\"][()]\n",
    "\n",
    "# out_dir = \"data\"\n",
    "# out_file = \"model 6 5Hz.h5\"\n",
    "\n",
    "# Path(out_dir).mkdir(parents=True, exist_ok=True)\n",
    "\n",
    "# with h5py.File(out_dir + '/' + out_file, 'w') as f:\n",
    "#     v_dset = f.create_dataset(\"v\", dtype='float32', data=v)\n",
    "#     m_dset = f.create_dataset(\"m\", dtype='float32', data=m)\n",
    "#     o_dset = f.create_dataset(\"o\", dtype='float32', data=o)\n",
    "#     d_dset = f.create_dataset(\"d\", dtype='float32', data=d)\n",
    "#     n = f.create_dataset(\"n\", dtype='int64', data=n)\n",
    "#     fhistory_dset = f.create_dataset(\"fhistory\", dtype='float32', data=fhistory)"
   ]
  }
 ],
 "metadata": {
  "kernelspec": {
   "display_name": "Python 3",
   "language": "python",
   "name": "python3"
  },
  "language_info": {
   "codemirror_mode": {
    "name": "ipython",
    "version": 3
   },
   "file_extension": ".py",
   "mimetype": "text/x-python",
   "name": "python",
   "nbconvert_exporter": "python",
   "pygments_lexer": "ipython3",
   "version": "3.9.5"
  },
  "orig_nbformat": 4
 },
 "nbformat": 4,
 "nbformat_minor": 2
}
