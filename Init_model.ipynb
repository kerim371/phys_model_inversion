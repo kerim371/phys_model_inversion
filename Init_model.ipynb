{
 "cells": [
  {
   "cell_type": "code",
   "execution_count": null,
   "metadata": {},
   "outputs": [],
   "source": [
    "# !pip install numpy scipy matplotlib shapely h5py"
   ]
  },
  {
   "cell_type": "code",
   "execution_count": 1,
   "metadata": {},
   "outputs": [],
   "source": [
    "import numpy as np\n",
    "from matplotlib import pyplot as plt\n",
    "from shapely.geometry import Point, Polygon"
   ]
  },
  {
   "cell_type": "code",
   "execution_count": 2,
   "metadata": {},
   "outputs": [
    {
     "name": "stdout",
     "output_type": "stream",
     "text": [
      "nx:  480\n",
      "ny:  480\n",
      "nz:  132\n"
     ]
    }
   ],
   "source": [
    "x_buffer = 500\n",
    "y_buffer = 500\n",
    "x0 = 4500-x_buffer\n",
    "x1 = 15500+x_buffer\n",
    "y0 = 7500-y_buffer\n",
    "y1 = 18500+y_buffer\n",
    "z0 = 0\n",
    "z1 = 3300\n",
    "dx = 25\n",
    "dy = 25\n",
    "dz = 25\n",
    "\n",
    "x = np.arange(x0, x1, dx)\n",
    "y = np.arange(y0, y1, dy)\n",
    "z = np.arange(z0, z1, dz)\n",
    "\n",
    "nx = x.size\n",
    "ny = y.size\n",
    "nz = z.size\n",
    "\n",
    "print(\"nx: \", nx)\n",
    "print(\"ny: \", ny)\n",
    "print(\"nz: \", nz)"
   ]
  },
  {
   "cell_type": "code",
   "execution_count": 3,
   "metadata": {},
   "outputs": [],
   "source": [
    "z0_w = 0\n",
    "z1_w = 2800\n",
    "z0_c = 2800\n",
    "z1_c = 3300\n",
    "\n",
    "v_w = 3.6\n",
    "v_c = 7.2"
   ]
  },
  {
   "cell_type": "code",
   "execution_count": 4,
   "metadata": {},
   "outputs": [
    {
     "name": "stdout",
     "output_type": "stream",
     "text": [
      "V.shape:  (132, 480, 480)\n"
     ]
    }
   ],
   "source": [
    "V = np.zeros((nz, ny, nx))\n",
    "V = np.full((nz, ny, nx), v_w, dtype=np.float32)\n",
    "print(\"V.shape: \", V.shape)"
   ]
  },
  {
   "cell_type": "code",
   "execution_count": 21,
   "metadata": {},
   "outputs": [],
   "source": [
    "iz0 = (np.abs(z - z0_c)).argmin()\n",
    "iz1 = (np.abs(z - z1_c)).argmin()+1\n",
    "V[iz0:iz1,:,:] = v_c"
   ]
  },
  {
   "cell_type": "code",
   "execution_count": 25,
   "metadata": {},
   "outputs": [],
   "source": [
    "import h5py\n",
    "from pathlib import Path\n",
    "\n",
    "out_dir = \"data\"\n",
    "out_file = \"init_model.h5\"\n",
    "\n",
    "Path(out_dir).mkdir(parents=True, exist_ok=True)\n",
    "\n",
    "with h5py.File(out_dir + '/' + out_file, 'w') as f:\n",
    "    v_dset = f.create_dataset(\"v\", dtype='float32', data=V)\n",
    "    m_dset = f.create_dataset(\"m\", dtype='float32', data=(1/V)**2)\n",
    "    o_dset = f.create_dataset(\"o\", dtype='float32', data=(x[0], y[0], z[0]))\n",
    "    d_dset = f.create_dataset(\"d\", dtype='float32', data=(dx, dy, dz))\n",
    "    n = f.create_dataset(\"n\", dtype='int64', data=(nx, ny, nz))"
   ]
  }
 ],
 "metadata": {
  "kernelspec": {
   "display_name": "Python 3",
   "language": "python",
   "name": "python3"
  },
  "language_info": {
   "codemirror_mode": {
    "name": "ipython",
    "version": 3
   },
   "file_extension": ".py",
   "mimetype": "text/x-python",
   "name": "python",
   "nbconvert_exporter": "python",
   "pygments_lexer": "ipython3",
   "version": "3.9.5"
  },
  "orig_nbformat": 4
 },
 "nbformat": 4,
 "nbformat_minor": 2
}
